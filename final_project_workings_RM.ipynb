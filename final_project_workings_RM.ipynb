{
 "cells": [
  {
   "cell_type": "markdown",
   "metadata": {},
   "source": [
    "## House Prices: Advanced Regression Techniques"
   ]
  },
  {
   "cell_type": "markdown",
   "metadata": {},
   "source": [
    "The dataset that we shall be using for the finl project is 'House Prices: Advanced Regression Techniques', obtained from Kaggle's current list of open competitions (https://www.kaggle.com/c/house-prices-advanced-regression-techniques). The goal is develop a regression model that accurately predicts the sale price of 1,459 houses using a subset of available features.  The following workbook document's our team's process in full - from exploratory data analysis, to model selection and evaluation.\n"
   ]
  },
  {
   "cell_type": "code",
   "execution_count": 1,
   "metadata": {},
   "outputs": [],
   "source": [
    "# General libraries.\n",
    "import csv\n",
    "import numpy as np\n",
    "import pandas as pd\n",
    "import seaborn as sns\n",
    "import matplotlib.pyplot as plt\n",
    "\n",
    "# SK-learn libraries for learning.\n",
    "from sklearn.pipeline import Pipeline\n",
    "from sklearn.neighbors import KNeighborsClassifier\n",
    "from sklearn.linear_model import LinearRegression\n",
    "from sklearn.linear_model import LogisticRegression\n",
    "from sklearn.naive_bayes import BernoulliNB\n",
    "from sklearn.naive_bayes import MultinomialNB\n",
    "from sklearn.model_selection import GridSearchCV\n",
    "\n",
    "# SK-learn libraries for evaluation.\n",
    "from sklearn.metrics import confusion_matrix\n",
    "from sklearn import metrics\n",
    "from sklearn.metrics import classification_report"
   ]
  },
  {
   "cell_type": "markdown",
   "metadata": {},
   "source": [
    "### EDA"
   ]
  },
  {
   "cell_type": "code",
   "execution_count": 2,
   "metadata": {},
   "outputs": [
    {
     "data": {
      "text/html": [
       "<div>\n",
       "<style scoped>\n",
       "    .dataframe tbody tr th:only-of-type {\n",
       "        vertical-align: middle;\n",
       "    }\n",
       "\n",
       "    .dataframe tbody tr th {\n",
       "        vertical-align: top;\n",
       "    }\n",
       "\n",
       "    .dataframe thead th {\n",
       "        text-align: right;\n",
       "    }\n",
       "</style>\n",
       "<table border=\"1\" class=\"dataframe\">\n",
       "  <thead>\n",
       "    <tr style=\"text-align: right;\">\n",
       "      <th></th>\n",
       "      <th>MSSubClass</th>\n",
       "      <th>MSZoning</th>\n",
       "      <th>LotFrontage</th>\n",
       "      <th>LotArea</th>\n",
       "      <th>Street</th>\n",
       "      <th>Alley</th>\n",
       "      <th>LotShape</th>\n",
       "      <th>LandContour</th>\n",
       "      <th>Utilities</th>\n",
       "      <th>LotConfig</th>\n",
       "      <th>...</th>\n",
       "      <th>PoolArea</th>\n",
       "      <th>PoolQC</th>\n",
       "      <th>Fence</th>\n",
       "      <th>MiscFeature</th>\n",
       "      <th>MiscVal</th>\n",
       "      <th>MoSold</th>\n",
       "      <th>YrSold</th>\n",
       "      <th>SaleType</th>\n",
       "      <th>SaleCondition</th>\n",
       "      <th>SalePrice</th>\n",
       "    </tr>\n",
       "    <tr>\n",
       "      <th>Id</th>\n",
       "      <th></th>\n",
       "      <th></th>\n",
       "      <th></th>\n",
       "      <th></th>\n",
       "      <th></th>\n",
       "      <th></th>\n",
       "      <th></th>\n",
       "      <th></th>\n",
       "      <th></th>\n",
       "      <th></th>\n",
       "      <th></th>\n",
       "      <th></th>\n",
       "      <th></th>\n",
       "      <th></th>\n",
       "      <th></th>\n",
       "      <th></th>\n",
       "      <th></th>\n",
       "      <th></th>\n",
       "      <th></th>\n",
       "      <th></th>\n",
       "      <th></th>\n",
       "    </tr>\n",
       "  </thead>\n",
       "  <tbody>\n",
       "    <tr>\n",
       "      <th>530</th>\n",
       "      <td>20</td>\n",
       "      <td>RL</td>\n",
       "      <td>NaN</td>\n",
       "      <td>32668</td>\n",
       "      <td>Pave</td>\n",
       "      <td>NaN</td>\n",
       "      <td>IR1</td>\n",
       "      <td>Lvl</td>\n",
       "      <td>AllPub</td>\n",
       "      <td>CulDSac</td>\n",
       "      <td>...</td>\n",
       "      <td>0</td>\n",
       "      <td>NaN</td>\n",
       "      <td>NaN</td>\n",
       "      <td>NaN</td>\n",
       "      <td>0</td>\n",
       "      <td>3</td>\n",
       "      <td>2007</td>\n",
       "      <td>WD</td>\n",
       "      <td>Alloca</td>\n",
       "      <td>200624</td>\n",
       "    </tr>\n",
       "    <tr>\n",
       "      <th>492</th>\n",
       "      <td>50</td>\n",
       "      <td>RL</td>\n",
       "      <td>79.0</td>\n",
       "      <td>9490</td>\n",
       "      <td>Pave</td>\n",
       "      <td>NaN</td>\n",
       "      <td>Reg</td>\n",
       "      <td>Lvl</td>\n",
       "      <td>AllPub</td>\n",
       "      <td>Inside</td>\n",
       "      <td>...</td>\n",
       "      <td>0</td>\n",
       "      <td>NaN</td>\n",
       "      <td>MnPrv</td>\n",
       "      <td>NaN</td>\n",
       "      <td>0</td>\n",
       "      <td>8</td>\n",
       "      <td>2006</td>\n",
       "      <td>WD</td>\n",
       "      <td>Normal</td>\n",
       "      <td>133000</td>\n",
       "    </tr>\n",
       "    <tr>\n",
       "      <th>460</th>\n",
       "      <td>50</td>\n",
       "      <td>RL</td>\n",
       "      <td>NaN</td>\n",
       "      <td>7015</td>\n",
       "      <td>Pave</td>\n",
       "      <td>NaN</td>\n",
       "      <td>IR1</td>\n",
       "      <td>Bnk</td>\n",
       "      <td>AllPub</td>\n",
       "      <td>Corner</td>\n",
       "      <td>...</td>\n",
       "      <td>0</td>\n",
       "      <td>NaN</td>\n",
       "      <td>NaN</td>\n",
       "      <td>NaN</td>\n",
       "      <td>0</td>\n",
       "      <td>7</td>\n",
       "      <td>2009</td>\n",
       "      <td>WD</td>\n",
       "      <td>Normal</td>\n",
       "      <td>110000</td>\n",
       "    </tr>\n",
       "    <tr>\n",
       "      <th>280</th>\n",
       "      <td>60</td>\n",
       "      <td>RL</td>\n",
       "      <td>83.0</td>\n",
       "      <td>10005</td>\n",
       "      <td>Pave</td>\n",
       "      <td>NaN</td>\n",
       "      <td>Reg</td>\n",
       "      <td>Lvl</td>\n",
       "      <td>AllPub</td>\n",
       "      <td>Inside</td>\n",
       "      <td>...</td>\n",
       "      <td>0</td>\n",
       "      <td>NaN</td>\n",
       "      <td>NaN</td>\n",
       "      <td>NaN</td>\n",
       "      <td>0</td>\n",
       "      <td>3</td>\n",
       "      <td>2008</td>\n",
       "      <td>WD</td>\n",
       "      <td>Normal</td>\n",
       "      <td>192000</td>\n",
       "    </tr>\n",
       "    <tr>\n",
       "      <th>656</th>\n",
       "      <td>160</td>\n",
       "      <td>RM</td>\n",
       "      <td>21.0</td>\n",
       "      <td>1680</td>\n",
       "      <td>Pave</td>\n",
       "      <td>NaN</td>\n",
       "      <td>Reg</td>\n",
       "      <td>Lvl</td>\n",
       "      <td>AllPub</td>\n",
       "      <td>Inside</td>\n",
       "      <td>...</td>\n",
       "      <td>0</td>\n",
       "      <td>NaN</td>\n",
       "      <td>NaN</td>\n",
       "      <td>NaN</td>\n",
       "      <td>0</td>\n",
       "      <td>3</td>\n",
       "      <td>2010</td>\n",
       "      <td>WD</td>\n",
       "      <td>Family</td>\n",
       "      <td>88000</td>\n",
       "    </tr>\n",
       "  </tbody>\n",
       "</table>\n",
       "<p>5 rows × 80 columns</p>\n",
       "</div>"
      ],
      "text/plain": [
       "     MSSubClass MSZoning  LotFrontage  LotArea Street Alley LotShape  \\\n",
       "Id                                                                     \n",
       "530          20       RL          NaN    32668   Pave   NaN      IR1   \n",
       "492          50       RL         79.0     9490   Pave   NaN      Reg   \n",
       "460          50       RL          NaN     7015   Pave   NaN      IR1   \n",
       "280          60       RL         83.0    10005   Pave   NaN      Reg   \n",
       "656         160       RM         21.0     1680   Pave   NaN      Reg   \n",
       "\n",
       "    LandContour Utilities LotConfig    ...     PoolArea PoolQC  Fence  \\\n",
       "Id                                     ...                              \n",
       "530         Lvl    AllPub   CulDSac    ...            0    NaN    NaN   \n",
       "492         Lvl    AllPub    Inside    ...            0    NaN  MnPrv   \n",
       "460         Bnk    AllPub    Corner    ...            0    NaN    NaN   \n",
       "280         Lvl    AllPub    Inside    ...            0    NaN    NaN   \n",
       "656         Lvl    AllPub    Inside    ...            0    NaN    NaN   \n",
       "\n",
       "    MiscFeature MiscVal MoSold  YrSold  SaleType  SaleCondition  SalePrice  \n",
       "Id                                                                          \n",
       "530         NaN       0      3    2007        WD         Alloca     200624  \n",
       "492         NaN       0      8    2006        WD         Normal     133000  \n",
       "460         NaN       0      7    2009        WD         Normal     110000  \n",
       "280         NaN       0      3    2008        WD         Normal     192000  \n",
       "656         NaN       0      3    2010        WD         Family      88000  \n",
       "\n",
       "[5 rows x 80 columns]"
      ]
     },
     "execution_count": 2,
     "metadata": {},
     "output_type": "execute_result"
    }
   ],
   "source": [
    "# Read in the housing train data\n",
    "housing = pd.read_csv('./Data/train.csv', index_col=0)\n",
    "\n",
    "# Random splits for train and dev sets\n",
    "train = housing.sample(frac=0.9, random_state=0)\n",
    "dev = housing.drop(train.index)\n",
    "\n",
    "# Read in the test data\n",
    "test = pd.read_csv('./Data/test.csv', index_col=0)\n",
    "\n",
    "train.head()"
   ]
  },
  {
   "cell_type": "code",
   "execution_count": 3,
   "metadata": {},
   "outputs": [
    {
     "name": "stdout",
     "output_type": "stream",
     "text": [
      "Train data\n",
      "Rows: 1314\n",
      "Cols: 80 \n",
      "\n",
      "Dev data\n",
      "Rows: 146\n",
      "Cols: 80 \n",
      "\n",
      "Test data\n",
      "Rows: 1459\n",
      "Cols: 79\n"
     ]
    }
   ],
   "source": [
    "# Shape of train data\n",
    "print('Train data')\n",
    "print('Rows:', len(train.index))\n",
    "print('Cols:', len(train.columns), '\\n')\n",
    "\n",
    "# Shape of dev data\n",
    "print('Dev data')\n",
    "print('Rows:', len(dev.index))\n",
    "print('Cols:', len(dev.columns), '\\n')  \n",
    "\n",
    "# Shape of test data\n",
    "print('Test data')\n",
    "print('Rows:', len(test.index))\n",
    "print('Cols:', len(test.columns)) "
   ]
  },
  {
   "cell_type": "code",
   "execution_count": 4,
   "metadata": {},
   "outputs": [
    {
     "name": "stdout",
     "output_type": "stream",
     "text": [
      "Categorical variables: 43\n",
      "Continuous variables: 37\n"
     ]
    }
   ],
   "source": [
    "# Categorical variables\n",
    "categorical_vars = [var for var in train.columns if np.dtype(train[var]) == 'object']\n",
    "\n",
    "# Continuous variables\n",
    "continuous_vars = [var for var in train.columns if np.dtype(train[var]) != 'object']\n",
    "\n",
    "print('Categorical variables:', len(categorical_vars))\n",
    "print('Continuous variables:', len(continuous_vars))"
   ]
  },
  {
   "cell_type": "code",
   "execution_count": 5,
   "metadata": {
    "scrolled": true
   },
   "outputs": [
    {
     "data": {
      "image/png": "[encoded data removed]",
      "text/plain": [
       "<Figure size 504x288 with 1 Axes>"
      ]
     },
     "metadata": {},
     "output_type": "display_data"
    }
   ],
   "source": [
    "# Calculate missing value counts\n",
    "missing = train.isnull().sum()\n",
    "missing = pd.DataFrame(missing[missing > 0])\n",
    "\n",
    "# Rename and sort counts\n",
    "missing.rename(columns= {0: 'count'}, inplace = True)\n",
    "missing.sort_values(by='count', ascending = False, inplace = True)\n",
    "\n",
    "# Percentage missing\n",
    "percent_missing = missing.loc[:, 'count'] / len(train.index)\n",
    "\n",
    "# Plot missing counts\n",
    "fig, ax = plt.subplots(figsize = (7,4))\n",
    "plt.bar(missing.index, percent_missing)\n",
    "\n",
    "# Rotate x labels\n",
    "for tick in ax.get_xticklabels():\n",
    "    tick.set_rotation(90)"
   ]
  },
  {
   "cell_type": "code",
   "execution_count": 6,
   "metadata": {},
   "outputs": [
    {
     "name": "stdout",
     "output_type": "stream",
     "text": [
      "Min price: 34900\n",
      "Max price: 755000\n"
     ]
    }
   ],
   "source": [
    "# Min and max sales price\n",
    "print('Min price:', min(train.SalePrice))\n",
    "print('Max price:', max(train.SalePrice))"
   ]
  },
  {
   "cell_type": "markdown",
   "metadata": {},
   "source": [
    "**Correlated variables:** The correlation plot shows there are a number of variables that are highly correlated, e.g. Overall Quality and Sale Price.  The extent to which the different variables are correlated will need to be taken into consideration when selecting the appropriate regression model.  For instance, we'll want to avoid high degree of multicollinearity in order to minimize the bias with our model."
   ]
  },
  {
   "cell_type": "code",
   "execution_count": 7,
   "metadata": {},
   "outputs": [
    {
     "data": {
      "text/plain": [
       "<matplotlib.axes._subplots.AxesSubplot at 0x15a321d2240>"
      ]
     },
     "execution_count": 7,
     "metadata": {},
     "output_type": "execute_result"
    },
    {
     "data": {
      "image/png": "[encoded data removed]",
      "text/plain": [
       "<Figure size 936x936 with 2 Axes>"
      ]
     },
     "metadata": {},
     "output_type": "display_data"
    }
   ],
   "source": [
    "# Create correlation matrix\n",
    "corr = train.corr()\n",
    "\n",
    "# Define figure size\n",
    "plt.rcParams['figure.figsize'] = (13, 13)\n",
    "\n",
    "# Mask upper triangle\n",
    "mask = np.zeros_like(corr)\n",
    "mask[np.triu_indices_from(mask)] = True\n",
    "\n",
    "# Plot heapmat\n",
    "sns.heatmap(corr, mask=mask, square=True, cmap='coolwarm')"
   ]
  },
  {
   "cell_type": "code",
   "execution_count": 8,
   "metadata": {},
   "outputs": [
    {
     "data": {
      "text/html": [
       "<div>\n",
       "<style scoped>\n",
       "    .dataframe tbody tr th:only-of-type {\n",
       "        vertical-align: middle;\n",
       "    }\n",
       "\n",
       "    .dataframe tbody tr th {\n",
       "        vertical-align: top;\n",
       "    }\n",
       "\n",
       "    .dataframe thead th {\n",
       "        text-align: right;\n",
       "    }\n",
       "</style>\n",
       "<table border=\"1\" class=\"dataframe\">\n",
       "  <thead>\n",
       "    <tr style=\"text-align: right;\">\n",
       "      <th></th>\n",
       "      <th>SalePrice</th>\n",
       "    </tr>\n",
       "  </thead>\n",
       "  <tbody>\n",
       "    <tr>\n",
       "      <th>OverallQual</th>\n",
       "      <td>0.791755</td>\n",
       "    </tr>\n",
       "    <tr>\n",
       "      <th>GrLivArea</th>\n",
       "      <td>0.705895</td>\n",
       "    </tr>\n",
       "    <tr>\n",
       "      <th>GarageCars</th>\n",
       "      <td>0.638131</td>\n",
       "    </tr>\n",
       "    <tr>\n",
       "      <th>GarageArea</th>\n",
       "      <td>0.616665</td>\n",
       "    </tr>\n",
       "    <tr>\n",
       "      <th>TotalBsmtSF</th>\n",
       "      <td>0.613707</td>\n",
       "    </tr>\n",
       "    <tr>\n",
       "      <th>1stFlrSF</th>\n",
       "      <td>0.609193</td>\n",
       "    </tr>\n",
       "    <tr>\n",
       "      <th>FullBath</th>\n",
       "      <td>0.564740</td>\n",
       "    </tr>\n",
       "    <tr>\n",
       "      <th>TotRmsAbvGrd</th>\n",
       "      <td>0.534715</td>\n",
       "    </tr>\n",
       "    <tr>\n",
       "      <th>YearBuilt</th>\n",
       "      <td>0.523654</td>\n",
       "    </tr>\n",
       "    <tr>\n",
       "      <th>YearRemodAdd</th>\n",
       "      <td>0.502748</td>\n",
       "    </tr>\n",
       "    <tr>\n",
       "      <th>GarageYrBlt</th>\n",
       "      <td>0.486910</td>\n",
       "    </tr>\n",
       "    <tr>\n",
       "      <th>MasVnrArea</th>\n",
       "      <td>0.485144</td>\n",
       "    </tr>\n",
       "    <tr>\n",
       "      <th>Fireplaces</th>\n",
       "      <td>0.470886</td>\n",
       "    </tr>\n",
       "    <tr>\n",
       "      <th>BsmtFinSF1</th>\n",
       "      <td>0.394894</td>\n",
       "    </tr>\n",
       "    <tr>\n",
       "      <th>LotFrontage</th>\n",
       "      <td>0.352051</td>\n",
       "    </tr>\n",
       "  </tbody>\n",
       "</table>\n",
       "</div>"
      ],
      "text/plain": [
       "              SalePrice\n",
       "OverallQual    0.791755\n",
       "GrLivArea      0.705895\n",
       "GarageCars     0.638131\n",
       "GarageArea     0.616665\n",
       "TotalBsmtSF    0.613707\n",
       "1stFlrSF       0.609193\n",
       "FullBath       0.564740\n",
       "TotRmsAbvGrd   0.534715\n",
       "YearBuilt      0.523654\n",
       "YearRemodAdd   0.502748\n",
       "GarageYrBlt    0.486910\n",
       "MasVnrArea     0.485144\n",
       "Fireplaces     0.470886\n",
       "BsmtFinSF1     0.394894\n",
       "LotFrontage    0.352051"
      ]
     },
     "execution_count": 8,
     "metadata": {},
     "output_type": "execute_result"
    }
   ],
   "source": [
    "# SalePrice correlations\n",
    "saleprice_corr = pd.DataFrame(corr.loc[['SalePrice'], :].unstack())\n",
    "\n",
    "# Reformat df and sort\n",
    "saleprice_corr.rename(columns= {0: 'SalePrice'}, inplace = True)\n",
    "saleprice_corr.reset_index(level=1, drop=True, inplace=True)\n",
    "saleprice_corr.sort_values(by='SalePrice', ascending = False, inplace = True)\n",
    "\n",
    "# Top 15 variables most strongly correlated with SalePrice\n",
    "saleprice_top_15 = saleprice_corr.iloc[1:16, :]\n",
    "saleprice_top_15"
   ]
  },
  {
   "cell_type": "code",
   "execution_count": 9,
   "metadata": {},
   "outputs": [
    {
     "name": "stdout",
     "output_type": "stream",
     "text": [
      "Correlation between GarageArea and GarageCars: 0.881\n"
     ]
    }
   ],
   "source": [
    "print('Correlation between GarageArea and GarageCars: {:.3f}'. format(corr.loc['GarageCars']['GarageArea']))"
   ]
  },
  {
   "cell_type": "markdown",
   "metadata": {},
   "source": [
    "**Variables strongly correlated with sale price:** The 15 variables displayed above are those most strongly correlated with SalePrice, our dependent variable.  It's worth noting that some of thse variables are highly correlated with one another (e.g. GarageCars/GarageArea, GrLivArea/1stFlrSF) and so such pairings should be avoided when specifying the linear regression model so as not to confound results."
   ]
  },
  {
   "cell_type": "code",
   "execution_count": 10,
   "metadata": {},
   "outputs": [
    {
     "data": {
      "text/plain": [
       "Text(0,0.5,'Number of homes')"
      ]
     },
     "execution_count": 10,
     "metadata": {},
     "output_type": "execute_result"
    },
    {
     "data": {
      "image/png": "[encoded data removed]",
      "text/plain": [
       "<Figure size 720x216 with 2 Axes>"
      ]
     },
     "metadata": {},
     "output_type": "display_data"
    }
   ],
   "source": [
    "# Plot dependent variable\n",
    "fig, (ax1, ax2) = plt.subplots(1,2, figsize = (10,3))\n",
    "\n",
    "# Histogram of sale price\n",
    "ax1.hist(train.SalePrice, bins=15)\n",
    "\n",
    "ax1.set_title('Sale Price')\n",
    "ax1.set_xlabel('Sale price')\n",
    "ax1.set_ylabel('Number of homes')\n",
    "\n",
    "# Rotate x labels\n",
    "for tick in ax1.get_xticklabels():\n",
    "    tick.set_rotation(90)\n",
    "    \n",
    "# Histogram of log(sale price) \n",
    "ax2.hist(np.log(train.SalePrice), bins=15)\n",
    "\n",
    "ax2.set_title('Log of Sale Price')\n",
    "ax2.set_xlabel('Log of sale price)')\n",
    "ax2.set_ylabel('Number of homes')\n"
   ]
  },
  {
   "cell_type": "code",
   "execution_count": 11,
   "metadata": {},
   "outputs": [],
   "source": [
    "#fig, ax = plt.subplots(figsize = (5,3))\n",
    "#plt.hist(train.OverallQual)\n",
    "#plt.hist(np.log(train.GrLivArea))"
   ]
  },
  {
   "cell_type": "markdown",
   "metadata": {},
   "source": [
    "### Segment data for model training"
   ]
  },
  {
   "cell_type": "code",
   "execution_count": 12,
   "metadata": {},
   "outputs": [],
   "source": [
    "###### Tinker with this part repeatedly ######\n",
    "\n",
    "# Define feature columns\n",
    "feature_cols = ['OverallQual', 'GrLivArea', 'GarageArea', 'YearBuilt']\n",
    "\n",
    "# Select specified features for each dataset\n",
    "train_data, train_labels = train.loc[:, feature_cols], train.loc[:, ['SalePrice']]\n",
    "dev_data, dev_labels = dev.loc[:, feature_cols], dev.loc[:, ['SalePrice']]\n",
    "test_data = test"
   ]
  },
  {
   "cell_type": "code",
   "execution_count": 13,
   "metadata": {},
   "outputs": [
    {
     "name": "stdout",
     "output_type": "stream",
     "text": [
      "train: (1314, 4)\n",
      "dev: (146, 4)\n",
      "test: (1459, 79)\n"
     ]
    }
   ],
   "source": [
    "# Check that dataset has been constrained to specified features\n",
    "print('train:', train_data.shape)\n",
    "print('dev:', dev_data.shape)\n",
    "print('test:', test_data.shape)"
   ]
  },
  {
   "cell_type": "markdown",
   "metadata": {},
   "source": [
    "### Basic Linear Model"
   ]
  },
  {
   "cell_type": "code",
   "execution_count": 14,
   "metadata": {},
   "outputs": [
    {
     "name": "stdout",
     "output_type": "stream",
     "text": [
      "Accuracy: 0.7678\n"
     ]
    },
    {
     "data": {
      "image/png": "[encoded data removed]",
      "text/plain": [
       "<Figure size 504x360 with 1 Axes>"
      ]
     },
     "metadata": {},
     "output_type": "display_data"
    }
   ],
   "source": [
    "# Log of sales price\n",
    "train_labels_log = np.log(train_labels)\n",
    "dev_labels_log = np.log(dev_labels)\n",
    "\n",
    "# Fit the linear regression model\n",
    "lr = LinearRegression()\n",
    "lr.fit(train_data, train_labels_log)\n",
    "predict_dev_label = lr.predict(dev_data)\n",
    "\n",
    "# Plot predicted vs. actual values\n",
    "fig, ax = plt.subplots(figsize = (7,5))\n",
    "plt.scatter(predict_dev_label, dev_labels_log)\n",
    "\n",
    "# what is R^2 of our fit?\n",
    "print('Accuracy: {:.4f}'.format(lr.score(dev_data, dev_labels_log)))"
   ]
  },
  {
   "cell_type": "code",
   "execution_count": 15,
   "metadata": {},
   "outputs": [],
   "source": [
    "# Use root mean square error to evaluate model accuracy."
   ]
  },
  {
   "cell_type": "code",
   "execution_count": null,
   "metadata": {},
   "outputs": [],
   "source": []
  }
 ],
 "metadata": {
  "kernelspec": {
   "display_name": "Python 3",
   "language": "python",
   "name": "python3"
  },
  "language_info": {
   "codemirror_mode": {
    "name": "ipython",
    "version": 3
   },
   "file_extension": ".py",
   "mimetype": "text/x-python",
   "name": "python",
   "nbconvert_exporter": "python",
   "pygments_lexer": "ipython3",
   "version": "3.6.5"
  }
 },
 "nbformat": 4,
 "nbformat_minor": 2
}
